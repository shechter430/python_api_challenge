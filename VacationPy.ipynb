{
 "cells": [
  {
   "cell_type": "markdown",
   "metadata": {},
   "source": [
    "# VacationPy\n",
    "----\n"
   ]
  },
  {
   "cell_type": "code",
   "execution_count": 1,
   "metadata": {},
   "outputs": [
    {
     "name": "stdout",
     "output_type": "stream",
     "text": [
      "Config option `kernel_spec_manager_class` not recognized by `EnableNBExtensionApp`.\n",
      "Enabling notebook extension jupyter-gmaps/extension...\n",
      "      - Validating: \u001b[32mOK\u001b[0m\n"
     ]
    }
   ],
   "source": [
    "! jupyter nbextension enable --py gmaps"
   ]
  },
  {
   "cell_type": "code",
   "execution_count": 2,
   "metadata": {},
   "outputs": [],
   "source": [
    "# Dependencies and Setup\n",
    "import matplotlib.pyplot as plt\n",
    "import pandas as pd\n",
    "import numpy as np\n",
    "import requests\n",
    "import gmaps\n",
    "import os\n",
    "\n",
    "# Import API key\n",
    "from api_key import g_key"
   ]
  },
  {
   "cell_type": "markdown",
   "metadata": {},
   "source": [
    "### Store Part I results into DataFrame\n",
    "* Load the csv exported in Part I to a DataFrame"
   ]
  },
  {
   "cell_type": "code",
   "execution_count": 3,
   "metadata": {},
   "outputs": [
    {
     "data": {
      "text/html": [
       "<div>\n",
       "<style scoped>\n",
       "    .dataframe tbody tr th:only-of-type {\n",
       "        vertical-align: middle;\n",
       "    }\n",
       "\n",
       "    .dataframe tbody tr th {\n",
       "        vertical-align: top;\n",
       "    }\n",
       "\n",
       "    .dataframe thead th {\n",
       "        text-align: right;\n",
       "    }\n",
       "</style>\n",
       "<table border=\"1\" class=\"dataframe\">\n",
       "  <thead>\n",
       "    <tr style=\"text-align: right;\">\n",
       "      <th></th>\n",
       "      <th>City</th>\n",
       "      <th>Lat</th>\n",
       "      <th>Long</th>\n",
       "      <th>Max Temp</th>\n",
       "      <th>Humidity</th>\n",
       "      <th>Cloudiness</th>\n",
       "      <th>Wind Speed</th>\n",
       "      <th>Country</th>\n",
       "      <th>Date</th>\n",
       "    </tr>\n",
       "  </thead>\n",
       "  <tbody>\n",
       "    <tr>\n",
       "      <th>0</th>\n",
       "      <td>ribeira grande</td>\n",
       "      <td>38.5167</td>\n",
       "      <td>-28.7000</td>\n",
       "      <td>58.89</td>\n",
       "      <td>85</td>\n",
       "      <td>100</td>\n",
       "      <td>14.56</td>\n",
       "      <td>PT</td>\n",
       "      <td>1613098269</td>\n",
       "    </tr>\n",
       "    <tr>\n",
       "      <th>1</th>\n",
       "      <td>hobart</td>\n",
       "      <td>-42.8794</td>\n",
       "      <td>147.3294</td>\n",
       "      <td>73.00</td>\n",
       "      <td>40</td>\n",
       "      <td>40</td>\n",
       "      <td>17.27</td>\n",
       "      <td>AU</td>\n",
       "      <td>1613098025</td>\n",
       "    </tr>\n",
       "    <tr>\n",
       "      <th>2</th>\n",
       "      <td>kapaa</td>\n",
       "      <td>22.0752</td>\n",
       "      <td>-159.3190</td>\n",
       "      <td>75.20</td>\n",
       "      <td>57</td>\n",
       "      <td>1</td>\n",
       "      <td>6.91</td>\n",
       "      <td>US</td>\n",
       "      <td>1613098116</td>\n",
       "    </tr>\n",
       "    <tr>\n",
       "      <th>3</th>\n",
       "      <td>punta arenas</td>\n",
       "      <td>-53.1500</td>\n",
       "      <td>-70.9167</td>\n",
       "      <td>46.40</td>\n",
       "      <td>71</td>\n",
       "      <td>0</td>\n",
       "      <td>6.91</td>\n",
       "      <td>CL</td>\n",
       "      <td>1613098270</td>\n",
       "    </tr>\n",
       "    <tr>\n",
       "      <th>4</th>\n",
       "      <td>jamestown</td>\n",
       "      <td>42.0970</td>\n",
       "      <td>-79.2353</td>\n",
       "      <td>14.00</td>\n",
       "      <td>79</td>\n",
       "      <td>40</td>\n",
       "      <td>5.75</td>\n",
       "      <td>US</td>\n",
       "      <td>1613098270</td>\n",
       "    </tr>\n",
       "  </tbody>\n",
       "</table>\n",
       "</div>"
      ],
      "text/plain": [
       "             City      Lat      Long  Max Temp  Humidity  Cloudiness  \\\n",
       "0  ribeira grande  38.5167  -28.7000     58.89        85         100   \n",
       "1          hobart -42.8794  147.3294     73.00        40          40   \n",
       "2           kapaa  22.0752 -159.3190     75.20        57           1   \n",
       "3    punta arenas -53.1500  -70.9167     46.40        71           0   \n",
       "4       jamestown  42.0970  -79.2353     14.00        79          40   \n",
       "\n",
       "   Wind Speed Country        Date  \n",
       "0       14.56      PT  1613098269  \n",
       "1       17.27      AU  1613098025  \n",
       "2        6.91      US  1613098116  \n",
       "3        6.91      CL  1613098270  \n",
       "4        5.75      US  1613098270  "
      ]
     },
     "execution_count": 3,
     "metadata": {},
     "output_type": "execute_result"
    }
   ],
   "source": [
    "cities_weather = pd.read_csv(\"output/cities.csv\")\n",
    "cities_weather.head()"
   ]
  },
  {
   "cell_type": "markdown",
   "metadata": {},
   "source": [
    "### Humidity Heatmap\n",
    "* Configure gmaps.\n",
    "* Use the Lat and Lng as locations and Humidity as the weight.\n",
    "* Add Heatmap layer to map."
   ]
  },
  {
   "cell_type": "code",
   "execution_count": 9,
   "metadata": {},
   "outputs": [],
   "source": [
    "gmaps.configure(api_key=g_key)\n",
    "\n",
    "locations = cities_weather[[\"Lat\", \"Long\"]].astype(float)\n",
    "humidity = cities_weather[\"Humidity\"].astype(float)"
   ]
  },
  {
   "cell_type": "code",
   "execution_count": 24,
   "metadata": {},
   "outputs": [
    {
     "data": {
      "application/vnd.jupyter.widget-view+json": {
       "model_id": "37876c58e4a5469dac6f2038cfb28fe7",
       "version_major": 2,
       "version_minor": 0
      },
      "text/plain": [
       "Figure(layout=FigureLayout(height='420px'))"
      ]
     },
     "metadata": {},
     "output_type": "display_data"
    }
   ],
   "source": [
    "fig = gmaps.figure(center=(0.0, 0.0), zoom_level=2)\n",
    "\n",
    "heat_layer = gmaps.heatmap_layer(locations, weights=humidity, \n",
    "                                 dissipating=False, max_intensity=100,\n",
    "                                 point_radius = 3)\n",
    "\n",
    "fig.add_layer(heat_layer)\n",
    "\n",
    "fig"
   ]
  },
  {
   "cell_type": "markdown",
   "metadata": {},
   "source": [
    "### Create new DataFrame fitting weather criteria\n",
    "* Narrow down the cities to fit weather conditions.\n",
    "* Drop any rows will null values."
   ]
  },
  {
   "cell_type": "code",
   "execution_count": 34,
   "metadata": {},
   "outputs": [
    {
     "data": {
      "text/html": [
       "<div>\n",
       "<style scoped>\n",
       "    .dataframe tbody tr th:only-of-type {\n",
       "        vertical-align: middle;\n",
       "    }\n",
       "\n",
       "    .dataframe tbody tr th {\n",
       "        vertical-align: top;\n",
       "    }\n",
       "\n",
       "    .dataframe thead th {\n",
       "        text-align: right;\n",
       "    }\n",
       "</style>\n",
       "<table border=\"1\" class=\"dataframe\">\n",
       "  <thead>\n",
       "    <tr style=\"text-align: right;\">\n",
       "      <th></th>\n",
       "      <th>City</th>\n",
       "      <th>Lat</th>\n",
       "      <th>Long</th>\n",
       "      <th>Max Temp</th>\n",
       "      <th>Humidity</th>\n",
       "      <th>Cloudiness</th>\n",
       "      <th>Wind Speed</th>\n",
       "      <th>Country</th>\n",
       "      <th>Date</th>\n",
       "    </tr>\n",
       "  </thead>\n",
       "  <tbody>\n",
       "    <tr>\n",
       "      <th>30</th>\n",
       "      <td>atuona</td>\n",
       "      <td>-9.8000</td>\n",
       "      <td>-139.0333</td>\n",
       "      <td>79.59</td>\n",
       "      <td>74</td>\n",
       "      <td>0</td>\n",
       "      <td>9.91</td>\n",
       "      <td>PF</td>\n",
       "      <td>1613098275</td>\n",
       "    </tr>\n",
       "    <tr>\n",
       "      <th>112</th>\n",
       "      <td>mandalay</td>\n",
       "      <td>21.9747</td>\n",
       "      <td>96.0836</td>\n",
       "      <td>71.60</td>\n",
       "      <td>49</td>\n",
       "      <td>0</td>\n",
       "      <td>2.30</td>\n",
       "      <td>MM</td>\n",
       "      <td>1613098291</td>\n",
       "    </tr>\n",
       "    <tr>\n",
       "      <th>171</th>\n",
       "      <td>mecca</td>\n",
       "      <td>21.4267</td>\n",
       "      <td>39.8261</td>\n",
       "      <td>71.42</td>\n",
       "      <td>65</td>\n",
       "      <td>0</td>\n",
       "      <td>0.56</td>\n",
       "      <td>SA</td>\n",
       "      <td>1613098153</td>\n",
       "    </tr>\n",
       "    <tr>\n",
       "      <th>174</th>\n",
       "      <td>veraval</td>\n",
       "      <td>20.9000</td>\n",
       "      <td>70.3667</td>\n",
       "      <td>71.01</td>\n",
       "      <td>39</td>\n",
       "      <td>0</td>\n",
       "      <td>9.10</td>\n",
       "      <td>IN</td>\n",
       "      <td>1613098187</td>\n",
       "    </tr>\n",
       "    <tr>\n",
       "      <th>238</th>\n",
       "      <td>pasni</td>\n",
       "      <td>25.2631</td>\n",
       "      <td>63.4710</td>\n",
       "      <td>70.74</td>\n",
       "      <td>48</td>\n",
       "      <td>0</td>\n",
       "      <td>4.76</td>\n",
       "      <td>PK</td>\n",
       "      <td>1613098315</td>\n",
       "    </tr>\n",
       "  </tbody>\n",
       "</table>\n",
       "</div>"
      ],
      "text/plain": [
       "         City      Lat      Long  Max Temp  Humidity  Cloudiness  Wind Speed  \\\n",
       "30     atuona  -9.8000 -139.0333     79.59        74           0        9.91   \n",
       "112  mandalay  21.9747   96.0836     71.60        49           0        2.30   \n",
       "171     mecca  21.4267   39.8261     71.42        65           0        0.56   \n",
       "174   veraval  20.9000   70.3667     71.01        39           0        9.10   \n",
       "238     pasni  25.2631   63.4710     70.74        48           0        4.76   \n",
       "\n",
       "    Country        Date  \n",
       "30       PF  1613098275  \n",
       "112      MM  1613098291  \n",
       "171      SA  1613098153  \n",
       "174      IN  1613098187  \n",
       "238      PK  1613098315  "
      ]
     },
     "execution_count": 34,
     "metadata": {},
     "output_type": "execute_result"
    }
   ],
   "source": [
    "ideal_cities = cities_weather.loc[(cities_weather[\"Wind Speed\"] <= 10) & \n",
    "                                  (cities_weather[\"Cloudiness\"] == 0) & \n",
    "                                  (cities_weather[\"Max Temp\"] >= 70) & \n",
    "                                  (cities_weather[\"Max Temp\"] <= 80)].dropna()\n",
    "ideal_cities.head()"
   ]
  },
  {
   "cell_type": "markdown",
   "metadata": {},
   "source": [
    "### Hotel Map\n",
    "* Store into variable named `hotel_df`.\n",
    "* Add a \"Hotel Name\" column to the DataFrame.\n",
    "* Set parameters to search for hotels with 5000 meters.\n",
    "* Hit the Google Places API for each city's coordinates.\n",
    "* Store the first Hotel result into the DataFrame.\n",
    "* Plot markers on top of the heatmap."
   ]
  },
  {
   "cell_type": "code",
   "execution_count": 38,
   "metadata": {},
   "outputs": [],
   "source": [
    "hotel_df = ideal_cities\n",
    "hotel_df[\"Hotel Name\"] = \"\"\n",
    "\n",
    "base_url = \"https://maps.googleapis.com/maps/api/place/nearbysearch/json\"\n",
    "\n",
    "params = {\"type\" : \"hotel\",\n",
    "          \"keyword\" : \"hotel\",\n",
    "          \"radius\" : 5000,\n",
    "          \"key\" : g_key}"
   ]
  },
  {
   "cell_type": "code",
   "execution_count": 41,
   "metadata": {},
   "outputs": [
    {
     "name": "stdout",
     "output_type": "stream",
     "text": [
      "Retrieving Results for Index 30: atuona.\n",
      "Closest hotel in atuona is Hôtel Hiva Oa Hanakee Lodge.\n",
      "------------\n",
      "End of Search\n",
      "Retrieving Results for Index 112: mandalay.\n",
      "Closest hotel in mandalay is Pullman Mandalay Mingalar.\n",
      "------------\n",
      "End of Search\n",
      "Retrieving Results for Index 171: mecca.\n",
      "Closest hotel in mecca is Pullman Zamzam Makkah.\n",
      "------------\n",
      "End of Search\n",
      "Retrieving Results for Index 174: veraval.\n",
      "Closest hotel in veraval is HOTEL PLATINUM.\n",
      "------------\n",
      "End of Search\n",
      "Retrieving Results for Index 238: pasni.\n",
      "Closest hotel in pasni is Juddi Hotel.\n",
      "------------\n",
      "End of Search\n",
      "Retrieving Results for Index 263: les cayes.\n",
      "Closest hotel in les cayes is Regi Hotel & Bar.\n",
      "------------\n",
      "End of Search\n",
      "Retrieving Results for Index 290: korhogo.\n",
      "Closest hotel in korhogo is La Rose Blanche Hotel.\n",
      "------------\n",
      "End of Search\n",
      "Retrieving Results for Index 309: vila velha.\n",
      "Closest hotel in vila velha is Golden Tulip Porto Vitória.\n",
      "------------\n",
      "End of Search\n",
      "Retrieving Results for Index 320: villa carlos paz.\n",
      "Closest hotel in villa carlos paz is Hipocampus Hotel & Spa.\n",
      "------------\n",
      "End of Search\n",
      "Retrieving Results for Index 325: sao filipe.\n",
      "Closest hotel in sao filipe is Hotel Xaguate.\n",
      "------------\n",
      "End of Search\n",
      "Retrieving Results for Index 327: santa cruz del sur.\n",
      "Missing field/result... skipping.\n",
      "------------\n",
      "End of Search\n",
      "Retrieving Results for Index 362: mangrol.\n",
      "Missing field/result... skipping.\n",
      "------------\n",
      "End of Search\n",
      "Retrieving Results for Index 507: kibala.\n",
      "Closest hotel in kibala is Hôtel des Chasses.\n",
      "------------\n",
      "End of Search\n",
      "Retrieving Results for Index 510: quepos.\n",
      "Closest hotel in quepos is Hotel Makanda by The Sea.\n",
      "------------\n",
      "End of Search\n",
      "Retrieving Results for Index 555: gambela.\n",
      "Closest hotel in gambela is Grand Resort And Spa,Gambella.\n",
      "------------\n",
      "End of Search\n"
     ]
    }
   ],
   "source": [
    "for index, row in hotel_df.iterrows():\n",
    "    lat = row[\"Lat\"]\n",
    "    lng = row[\"Long\"]\n",
    "    city_name = row[\"City\"]\n",
    "    params[\"location\"] = f\"{lat},{lng}\"\n",
    "\n",
    "    print(f\"Retrieving Results for Index {index}: {city_name}.\")\n",
    "    response = requests.get(base_url, params=params).json()\n",
    "    results = response['results']\n",
    " \n",
    "    try:\n",
    "        print(f\"Closest hotel in {city_name} is {results[0]['name']}.\")\n",
    "        hotel_df.loc[index, \"Hotel Name\"] = results[0]['name']\n",
    "    except (KeyError, IndexError):\n",
    "        print(\"Missing field/result... skipping.\")\n",
    "        \n",
    "    print(\"------------\")\n",
    "    print(\"End of Search\")"
   ]
  },
  {
   "cell_type": "code",
   "execution_count": 44,
   "metadata": {},
   "outputs": [],
   "source": [
    "# NOTE: Do not change any of the code in this cell\n",
    "\n",
    "# Using the template add the hotel marks to the heatmap\n",
    "info_box_template = \"\"\"\n",
    "<dl>\n",
    "<dt>Name</dt><dd>{Hotel Name}</dd>\n",
    "<dt>City</dt><dd>{City}</dd>\n",
    "<dt>Country</dt><dd>{Country}</dd>\n",
    "</dl>\n",
    "\"\"\"\n",
    "# Store the DataFrame Row\n",
    "# NOTE: be sure to update with your DataFrame name\n",
    "hotel_info = [info_box_template.format(**row) for index, row in hotel_df.iterrows()]\n",
    "locations = hotel_df[[\"Lat\", \"Long\"]]"
   ]
  },
  {
   "cell_type": "code",
   "execution_count": 45,
   "metadata": {},
   "outputs": [
    {
     "data": {
      "application/vnd.jupyter.widget-view+json": {
       "model_id": "37876c58e4a5469dac6f2038cfb28fe7",
       "version_major": 2,
       "version_minor": 0
      },
      "text/plain": [
       "Figure(layout=FigureLayout(height='420px'))"
      ]
     },
     "metadata": {},
     "output_type": "display_data"
    }
   ],
   "source": [
    "# Add marker layer ontop of heat map\n",
    "markers = gmaps.marker_layer(locations, info_box_content = hotel_info)\n",
    "\n",
    "fig.add_layer(markers)\n",
    "fig.add_layer(heat_layer)\n",
    "fig\n"
   ]
  },
  {
   "cell_type": "code",
   "execution_count": null,
   "metadata": {},
   "outputs": [],
   "source": []
  }
 ],
 "metadata": {
  "kernelspec": {
   "display_name": "Python [conda env:PythonData] *",
   "language": "python",
   "name": "conda-env-PythonData-py"
  },
  "language_info": {
   "codemirror_mode": {
    "name": "ipython",
    "version": 3
   },
   "file_extension": ".py",
   "mimetype": "text/x-python",
   "name": "python",
   "nbconvert_exporter": "python",
   "pygments_lexer": "ipython3",
   "version": "3.6.10"
  },
  "latex_envs": {
   "LaTeX_envs_menu_present": true,
   "autoclose": false,
   "autocomplete": true,
   "bibliofile": "biblio.bib",
   "cite_by": "apalike",
   "current_citInitial": 1,
   "eqLabelWithNumbers": true,
   "eqNumInitial": 1,
   "hotkeys": {
    "equation": "Ctrl-E",
    "itemize": "Ctrl-I"
   },
   "labels_anchors": false,
   "latex_user_defs": false,
   "report_style_numbering": false,
   "user_envs_cfg": false
  }
 },
 "nbformat": 4,
 "nbformat_minor": 4
}
